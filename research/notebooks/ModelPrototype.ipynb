{
 "cells": [
  {
   "cell_type": "code",
   "execution_count": 6,
   "metadata": {},
   "outputs": [],
   "source": [
    "import numpy as np\n",
    "import pandas as pd\n",
    "import os\n",
    "import cv2\n",
    "import zipfile\n",
    "import torch\n",
    "from torchvision import transforms\n",
    "from PIL import Image"
   ]
  },
  {
   "cell_type": "code",
   "execution_count": 5,
   "metadata": {},
   "outputs": [],
   "source": [
    "RAW_DATA_PATH = \"../../data/raw/\""
   ]
  },
  {
   "cell_type": "code",
   "execution_count": 8,
   "metadata": {},
   "outputs": [],
   "source": [
    "class Loader():\n",
    "    def __init__(self, image_path = None, image_size = 64, split_size = 0.20):\n",
    "        self.image_path = image_path\n",
    "        self.image_size = image_size\n",
    "        self.split_size = split_size\n",
    "        \n",
    "    def split_dataset(self):\n",
    "        pass\n",
    "    \n",
    "    def transforms(self):\n",
    "        pass\n",
    "        \n",
    "    def unzip_folder(self):\n",
    "        with zipfile.ZipFile(self.image_path, \"r\") as zip_file:\n",
    "            zip_file.extractall(os.path.join(RAW_DATA_PATH))\n",
    "    \n",
    "    def feature_extraction(self):\n",
    "        pass\n",
    "    \n",
    "    def create_dataloader(self):\n",
    "        pass\n",
    "    \n",
    "    \n",
    "if __name__ == \"__main__\":\n",
    "    loader = Loader(\n",
    "        image_path=\"../../data/raw/dataset.zip\",\n",
    "        image_size=64,\n",
    "        split_size=0.20\n",
    "    )\n",
    "    loader.unzip_folder()\n",
    "        "
   ]
  },
  {
   "cell_type": "code",
   "execution_count": null,
   "metadata": {},
   "outputs": [],
   "source": []
  }
 ],
 "metadata": {
  "language_info": {
   "name": "python"
  }
 },
 "nbformat": 4,
 "nbformat_minor": 2
}
